{
 "cells": [
  {
   "cell_type": "markdown",
   "metadata": {},
   "source": [
    "# Projeto 2 - Ciência dos Dados"
   ]
  },
  {
   "cell_type": "markdown",
   "metadata": {},
   "source": [
    "Nome: _____\n",
    "\n",
    "Nome: _____"
   ]
  },
  {
   "cell_type": "markdown",
   "metadata": {},
   "source": [
    "Serão permitidos grupos de três pessoas, mas com uma rubrica mais exigente. Grupos deste tamanho precisarão fazer um questionário de avaliação de trabalho em equipe"
   ]
  },
  {
   "cell_type": "markdown",
   "metadata": {},
   "source": [
    "___\n",
    "# Classificador automático de sentimento\n"
   ]
  },
  {
   "cell_type": "markdown",
   "metadata": {},
   "source": [
    "## Preparando o ambiente no jupyter:"
   ]
  },
  {
   "cell_type": "code",
   "execution_count": 5,
   "metadata": {},
   "outputs": [],
   "source": [
    "%%capture\n",
    "\n",
    "#Instalando o tweepy\n",
    "!pip install tweepy"
   ]
  },
  {
   "cell_type": "code",
   "execution_count": 133,
   "metadata": {},
   "outputs": [],
   "source": [
    "import tweepy\n",
    "import math\n",
    "import os.path\n",
    "import pandas as pd\n",
    "import json\n",
    "from random import shuffle\n",
    "import matplotlib.pyplot as plt\n"
   ]
  },
  {
   "cell_type": "markdown",
   "metadata": {},
   "source": [
    "___\n",
    "## Autenticando no  Twitter\n",
    "\n",
    "* Conta: @EikiMarcelo"
   ]
  },
  {
   "cell_type": "raw",
   "metadata": {},
   "source": [
    "#Dados de autenticação do twitter:\n",
    "\n",
    "#Coloque aqui o identificador da conta no twitter: @EikiMarcelo\n",
    "\n",
    "#leitura do arquivo no formato JSON\n",
    "with open('auth.pass') as fp:    \n",
    "    data = json.load(fp)\n",
    "\n",
    "#Configurando a biblioteca. Não modificar\n",
    "auth = tweepy.OAuthHandler(data['consumer_key'], data['consumer_secret'])\n",
    "auth.set_access_token(data['access_token'], data['access_token_secret'])"
   ]
  },
  {
   "cell_type": "markdown",
   "metadata": {},
   "source": [
    "___\n",
    "## Etapas do projeto:"
   ]
  },
  {
   "cell_type": "markdown",
   "metadata": {},
   "source": [
    "### Escolha de um produto e coleta das mensagens\n"
   ]
  },
  {
   "cell_type": "raw",
   "metadata": {},
   "source": [
    "#Produto escolhido:\n",
    "produto = 'Skol'\n",
    "\n",
    "#Quantidade mínima de mensagens capturadas:\n",
    "n = 500\n",
    "#Quantidade mínima de mensagens para a base de treinamento:\n",
    "t = 300\n",
    "\n",
    "#Filtro de língua, escolha uma na tabela ISO 639-1.\n",
    "lang = 'pt'"
   ]
  },
  {
   "cell_type": "markdown",
   "metadata": {},
   "source": [
    "Capturando os dados do twitter:"
   ]
  },
  {
   "cell_type": "raw",
   "metadata": {},
   "source": [
    "#Cria um objeto para a captura\n",
    "api = tweepy.API(auth)\n",
    "\n",
    "#Inicia a captura, para mais detalhes: ver a documentação do tweepy\n",
    "i = 1\n",
    "msgs = []\n",
    "for msg in tweepy.Cursor(api.search, q=produto, lang=lang, tweet_mode=\"extended\").items():    \n",
    "    msgs.append(msg.full_text.lower())\n",
    "    i += 1\n",
    "    if i > n:\n",
    "        break\n",
    "\n",
    "#Embaralhando as mensagens para reduzir um possível viés\n",
    "shuffle(msgs)"
   ]
  },
  {
   "cell_type": "code",
   "execution_count": null,
   "metadata": {},
   "outputs": [],
   "source": []
  },
  {
   "cell_type": "markdown",
   "metadata": {},
   "source": [
    "Salvando os dados em uma planilha Excel:"
   ]
  },
  {
   "cell_type": "raw",
   "metadata": {},
   "source": [
    "len (msgs)"
   ]
  },
  {
   "cell_type": "raw",
   "metadata": {},
   "source": [
    "#Verifica se o arquivo não existe para não substituir um conjunto pronto\n",
    "if not os.path.isfile('./{0}.xlsx'.format(produto)):\n",
    "    \n",
    "    #Abre o arquivo para escrita\n",
    "    writer = pd.ExcelWriter('{0}.xlsx'.format(produto), engine = 'openpyxl')\n",
    "\n",
    "    #divide o conjunto de mensagens em duas planilhas\n",
    "    dft = pd.DataFrame({'Treinamento' : pd.Series(msgs[:t])})\n",
    "    dft.to_excel(excel_writer = writer, sheet_name = 'Treinamento', index = False)\n",
    "\n",
    "    dfc = pd.DataFrame({'Teste' : pd.Series(msgs[t:])})\n",
    "    dfc.to_excel(excel_writer = writer, sheet_name = 'Teste', index = False)\n",
    "\n",
    "    #fecha o arquivo\n",
    "    writer.save()"
   ]
  },
  {
   "cell_type": "markdown",
   "metadata": {},
   "source": [
    "___\n",
    "### Classificando as mensagens na coragem\n",
    "\n",
    "Esta etapa é manual. Faça a mesma pelo Excel."
   ]
  },
  {
   "cell_type": "code",
   "execution_count": 7,
   "metadata": {},
   "outputs": [],
   "source": [
    "#def de limpar palavras\n",
    "import re \n",
    "\n",
    "def cleanup(text):\n",
    "    \"\"\"\n",
    "        Função de limpeza muito simples que troca alguns sinais básicos por espaços\n",
    "    \"\"\"\n",
    "    punctuation = '[!\\-.:?;]' # Note que os sinais [] são delimitadores de um conjunto.\n",
    "    pattern = re.compile(punctuation)\n",
    "    text_subbed = re.sub(pattern, ' ', text)\n",
    "    return text_subbed\n",
    "#Excel\n",
    "skol_read=pd.read_excel(\"skol.xlsx\")"
   ]
  },
  {
   "cell_type": "code",
   "execution_count": 8,
   "metadata": {},
   "outputs": [
    {
     "name": "stdout",
     "output_type": "stream",
     "text": [
      "Len relevante 0: 185  Len relevante 1: 115\n"
     ]
    }
   ],
   "source": [
    "#Limpeza e separação por relevancia\n",
    "skol_read.Treinamento.apply(cleanup)\n",
    "skol_read.rename(columns={'Unnamed: 1':'relevante'},inplace=True)\n",
    "#Relevante 0\n",
    "skol_relevante_0=skol_read[skol_read.relevante==0]\n",
    "\n",
    "#Relevante 1\n",
    "skol_relevante_1=skol_read[skol_read.relevante==1]\n",
    "print (\"Len relevante 0:\",len(skol_relevante_0),\"\",\n",
    "       \"Len relevante 1:\",len(skol_relevante_1))"
   ]
  },
  {
   "cell_type": "code",
   "execution_count": 102,
   "metadata": {},
   "outputs": [
    {
     "name": "stdout",
     "output_type": "stream",
     "text": [
      "                              0\n",
      "0                            um\n",
      "1                          open\n",
      "2                            de\n",
      "3                          skol\n",
      "4                         beats\n",
      "5                            em\n",
      "6                       limeira\n",
      "7                         seria\n",
      "8                           uma\n",
      "9                           boa\n",
      "10                           ne\n",
      "11                            ?\n",
      "12                         😋😁rt\n",
      "13                  @daumasgeo:\n",
      "14                        óbvio\n",
      "15                          que\n",
      "16                          ela\n",
      "17                          foi\n",
      "18                       embora\n",
      "19                         tava\n",
      "20                        dando\n",
      "21                         skol\n",
      "22                          pra\n",
      "23                         mina\n",
      "24    https://t.co/gjdjc9lzgjto\n",
      "25              procrastinando,\n",
      "26                          vou\n",
      "27                      ensinar\n",
      "28                            a\n",
      "29                 reaproveitar\n",
      "...                         ...\n",
      "1418                         me\n",
      "1419                 conquistar\n",
      "1420                        com\n",
      "1421                    bebida,\n",
      "1422                      saiba\n",
      "1423                        que\n",
      "1424                         eu\n",
      "1425                        não\n",
      "1426                      gosto\n",
      "1427                         de\n",
      "1428                      vodka\n",
      "1429                          e\n",
      "1430                    prefiro\n",
      "1431                     brahma\n",
      "1432                        que\n",
      "1433                     skolrt\n",
      "1434           @sabrinas_silva:\n",
      "1435                       hoje\n",
      "1436                         só\n",
      "1437                     queria\n",
      "1438                     sentar\n",
      "1439                         em\n",
      "1440                         um\n",
      "1441                     buraco\n",
      "1442                         de\n",
      "1443                    esquina\n",
      "1444                          e\n",
      "1445                      tomar\n",
      "1446                         um\n",
      "1447                       skol\n",
      "\n",
      "[1448 rows x 1 columns]\n"
     ]
    }
   ],
   "source": [
    "# Separando as palavras Relevancia 1\n",
    "\" \".join(skol_relevante_1[\"Treinamento\"]).split()\n",
    "palavras=pd.DataFrame(\"\".join(skol_relevante_1[\"Treinamento\"]).split())\n",
    "palavras_relevancia_1=palavras[0].value_counts()\n",
    "#Tabela Relativa \n",
    "palavras_relevancia_1_relativa=palavras[0].value_counts(True)"
   ]
  },
  {
   "cell_type": "code",
   "execution_count": 10,
   "metadata": {},
   "outputs": [],
   "source": [
    "# Separando as palavras Relevancia 0\n",
    "\" \".join(skol_relevante_0[\"Treinamento\"]).split()\n",
    "palavras=pd.DataFrame(\"\".join(skol_relevante_0[\"Treinamento\"]).split())\n",
    "palavras[0].value_counts()\n",
    "palavras_relevancia_0=palavras[0].value_counts()\n",
    "palavras_relevancia_0\n",
    "\n",
    "#Tabela Relativa \n",
    "palavras_relevancia_0_relativa=palavras[0].value_counts(True)"
   ]
  },
  {
   "cell_type": "code",
   "execution_count": 11,
   "metadata": {},
   "outputs": [
    {
     "name": "stdout",
     "output_type": "stream",
     "text": [
      "skol                          0.040550\n",
      "de                            0.034556\n",
      "e                             0.023625\n",
      "a                             0.022214\n",
      "beats                         0.014457\n",
      "o                             0.013399\n",
      "eu                            0.013047\n",
      "da                            0.012341\n",
      "que                           0.011636\n",
      "pra                           0.010578\n",
      "uma                           0.010226\n",
      "do                            0.009520\n",
      "é                             0.009520\n",
      "me                            0.008110\n",
      "com                           0.007757\n",
      "no                            0.007052\n",
      "não                           0.006347\n",
      "q                             0.006347\n",
      "em                            0.005994\n",
      "na                            0.005642\n",
      "se                            0.005642\n",
      "um                            0.005642\n",
      "tu                            0.005289\n",
      "bebendo                       0.004937\n",
      "vai                           0.004584\n",
      "mano                          0.004584\n",
      "só                            0.004231\n",
      "mas                           0.004231\n",
      "toma                          0.004231\n",
      "para                          0.004231\n",
      "                                ...   \n",
      "mana\"                         0.000353\n",
      "bitche                        0.000353\n",
      "ele,                          0.000353\n",
      "bonitinhos                    0.000353\n",
      "apagar                        0.000353\n",
      "brasileirão                   0.000353\n",
      "#seungyeon:                   0.000353\n",
      "água                          0.000353\n",
      "camarote                      0.000353\n",
      "morte,                        0.000353\n",
      "(pq                           0.000353\n",
      "10:06:51]                     0.000353\n",
      "semanas                       0.000353\n",
      "chiefs                        0.000353\n",
      "tequila...@padrinhosfa        0.000353\n",
      "sofre                         0.000353\n",
      "tmb                           0.000353\n",
      "sexo                          0.000353\n",
      "https://t.co/p1ixc8zhsmvai    0.000353\n",
      "rip                           0.000353\n",
      "balde                         0.000353\n",
      "perturbando                   0.000353\n",
      "falo                          0.000353\n",
      "continua                      0.000353\n",
      "(não                          0.000353\n",
      "feira                         0.000353\n",
      "sofá,                         0.000353\n",
      "@sullyanstrutz:               0.000353\n",
      "reto                          0.000353\n",
      "alguém                        0.000353\n",
      "Name: 0, Length: 1219, dtype: float64\n"
     ]
    }
   ],
   "source": [
    "print (palavras_relevancia_0_relativa)"
   ]
  },
  {
   "cell_type": "code",
   "execution_count": null,
   "metadata": {},
   "outputs": [],
   "source": []
  },
  {
   "cell_type": "markdown",
   "metadata": {},
   "source": [
    "___\n",
    "### Montando o Classificador Naive-Bayes\n",
    "\n",
    "Considerando apenas as mensagens da planilha Treinamento, ensine  seu classificador."
   ]
  },
  {
   "cell_type": "markdown",
   "metadata": {},
   "source": [
    "### <font color = \"red\"> Lista Prob Relevância 0 (Lista_prob_0):"
   ]
  },
  {
   "cell_type": "code",
   "execution_count": 51,
   "metadata": {},
   "outputs": [],
   "source": [
    "i=0\n",
    "lista_frase=[]\n",
    "lista_palavra = []\n",
    "while i <=299:\n",
    "    a=skol_read.iloc[i,0]\n",
    "    lista_frase.append(a)\n",
    "    x = lista_frase[i].split(\" \")\n",
    "    lista_palavra.append(x)\n",
    "    i+=1\n",
    "lista_palavra\n",
    "\n",
    "\n",
    "\n",
    "t = 1/(len(palavras_relevancia_0_relativa)+len(palavras_relevancia_0_relativa))\n",
    "\n",
    "i = 0\n",
    "produto_prob = []\n",
    "while i <= 299:\n",
    "    k = 0\n",
    "    mult_prob = []\n",
    "    while k < len(lista_palavra[i]):\n",
    "        palavra = lista_palavra[i][k]\n",
    "        if palavra not in palavras_relevancia_0_relativa:\n",
    "            prob = t\n",
    "        else:\n",
    "            prob = palavras_relevancia_0_relativa[palavra] + t\n",
    "        mult_prob.append(prob)\n",
    "        k+=1\n",
    "    #Aqui ja tem lista da probabilidade das palavras\n",
    "    #print(mult_prob)\n",
    "    p = 0\n",
    "    for e in mult_prob:\n",
    "        if p == 0:\n",
    "            p = e\n",
    "        else:\n",
    "            p = p*e\n",
    "    produto = p\n",
    "    produto_prob.append(produto)\n",
    "    i+=1\n",
    "Lista_prob_0 = produto_prob"
   ]
  },
  {
   "cell_type": "markdown",
   "metadata": {},
   "source": [
    "### <font color = \"red\" > Lista Prob Relevância 1 (Lista_prob_1):"
   ]
  },
  {
   "cell_type": "code",
   "execution_count": 54,
   "metadata": {},
   "outputs": [],
   "source": [
    "i=0\n",
    "lista_frase=[]\n",
    "lista_palavra = []\n",
    "while i <=299:\n",
    "    a=skol_read.iloc[i,0]\n",
    "    lista_frase.append(a)\n",
    "    x = lista_frase[i].split(\" \")\n",
    "    lista_palavra.append(x)\n",
    "    i+=1\n",
    "lista_palavra\n",
    "\n",
    "\n",
    "\n",
    "t = 1/(len(palavras_relevancia_1_relativa)+len(palavras_relevancia_1_relativa))\n",
    "\n",
    "i = 0\n",
    "produto_prob = []\n",
    "while i <= 299:\n",
    "    k = 0\n",
    "    mult_prob = []\n",
    "    while k < len(lista_palavra[i]):\n",
    "        palavra = lista_palavra[i][k]\n",
    "        if palavra not in palavras_relevancia_1_relativa:\n",
    "            prob = t\n",
    "        else:\n",
    "            prob = palavras_relevancia_1_relativa[palavra] + t\n",
    "        mult_prob.append(prob)\n",
    "        k+=1\n",
    "    #Aqui ja tem lista da probabilidade das palavras\n",
    "    #print(mult_prob)\n",
    "    p = 0\n",
    "    for e in mult_prob:\n",
    "        if p == 0:\n",
    "            p = e\n",
    "        else:\n",
    "            p = p*e\n",
    "    produto = p\n",
    "    produto_prob.append(produto)\n",
    "    i+=1\n",
    "Lista_prob_1 = produto_prob"
   ]
  },
  {
   "cell_type": "markdown",
   "metadata": {},
   "source": [
    "### <font color = \"red\"> Criando a lista analisadora:"
   ]
  },
  {
   "cell_type": "code",
   "execution_count": 59,
   "metadata": {},
   "outputs": [
    {
     "name": "stdout",
     "output_type": "stream",
     "text": [
      "[1, 1, 1, 1, 1, 1, 1, 1, 1, 0, 0, 0, 1, 1, 1, 1, 1, 1, 1, 1, 0, 1, 0, 1, 0, 0, 1, 1, 1, 1, 1, 1, 1, 1, 0, 1, 0, 1, 1, 1, 1, 1, 0, 1, 1, 1, 0, 1, 1, 1, 1, 1, 1, 1, 1, 1, 1, 1, 1, 0, 1, 1, 1, 1, 1, 1, 1, 1, 1, 1, 0, 1, 1, 1, 1, 1, 1, 0, 1, 1, 1, 1, 1, 1, 1, 0, 0, 0, 0, 1, 1, 0, 1, 1, 1, 0, 1, 1, 1, 1, 0, 1, 1, 1, 1, 1, 1, 1, 1, 0, 1, 1, 1, 1, 1, 0, 0, 1, 1, 1, 1, 1, 1, 1, 0, 0, 1, 1, 1, 1, 1, 0, 1, 1, 1, 1, 1, 1, 1, 1, 1, 1, 0, 0, 1, 1, 1, 1, 1, 1, 1, 1, 1, 1, 0, 1, 1, 1, 1, 0, 1, 0, 1, 1, 0, 1, 1, 1, 1, 1, 1, 1, 1, 1, 0, 0, 0, 1, 1, 1, 1, 0, 1, 0, 0, 0, 1, 0, 1, 1, 1, 1, 1, 1, 1, 0, 0, 1, 1, 1, 1, 1, 0, 1, 0, 1, 1, 1, 0, 1, 0, 1, 1, 1, 0, 0, 0, 1, 0, 0, 0, 1, 1, 1, 0, 1, 0, 1, 1, 1, 1, 1, 1, 1, 1, 1, 1, 0, 1, 1, 0, 0, 1, 1, 0, 0, 1, 1, 1, 0, 0, 0, 1, 1, 1, 1, 1, 1, 0, 0, 1, 1, 1, 1, 1, 1, 1, 1, 1, 1, 1, 1, 1, 1, 1, 1, 1, 1, 0, 0, 1, 1, 0, 0, 1, 1, 1, 0, 1, 1, 1, 1, 1, 0, 1, 1, 0, 0, 1, 1]\n"
     ]
    }
   ],
   "source": [
    "lista_analise = []\n",
    "\n",
    "i=0\n",
    "analise = 0\n",
    "while i< len(Lista_prob_1):\n",
    "    if Lista_prob_1[i] > Lista_prob_0[i]:\n",
    "        analise = 1\n",
    "    else:\n",
    "        analise = 0\n",
    "    lista_analise.append(analise)\n",
    "    i+=1\n",
    "print(lista_analise)"
   ]
  },
  {
   "cell_type": "markdown",
   "metadata": {},
   "source": [
    "### <font color = \"red\"> Validando as analises:"
   ]
  },
  {
   "cell_type": "markdown",
   "metadata": {},
   "source": [
    "#### Adicionando a coluna do resultado:"
   ]
  },
  {
   "cell_type": "code",
   "execution_count": 92,
   "metadata": {},
   "outputs": [],
   "source": [
    "skol_read[\"Analises\"] = lista_analise"
   ]
  },
  {
   "cell_type": "code",
   "execution_count": 106,
   "metadata": {},
   "outputs": [],
   "source": [
    "i = 0\n",
    "verifica = []\n",
    "while i < len(skol_read):\n",
    "    ver = False\n",
    "    if skol_read[\"relevante\"][i] == skol_read[\"Analises\"][i]:\n",
    "        ver = True\n",
    "    verifica.append(ver)\n",
    "    i+=1"
   ]
  },
  {
   "cell_type": "code",
   "execution_count": 107,
   "metadata": {},
   "outputs": [
    {
     "data": {
      "text/plain": [
       "True     0.606667\n",
       "False    0.393333\n",
       "Name: Verifica, dtype: float64"
      ]
     },
     "execution_count": 107,
     "metadata": {},
     "output_type": "execute_result"
    }
   ],
   "source": [
    "skol_read[\"Verifica\"] = verifica\n",
    "skol_read['Verifica'].value_counts(True)"
   ]
  },
  {
   "cell_type": "markdown",
   "metadata": {},
   "source": [
    "___\n",
    "### Verificando a performance\n",
    "\n",
    "Agora você deve testar o seu classificador com a base de Testes."
   ]
  },
  {
   "cell_type": "code",
   "execution_count": 108,
   "metadata": {},
   "outputs": [],
   "source": [
    "i = 0\n",
    "contagem_verdadeiro_positivo = 0\n",
    "contagem_verdadeiro_negativo = 0\n",
    "contagem_falso_positivo = 0\n",
    "contagem_falso_negativo = 0\n",
    "\n",
    "while i < len(skol_read):\n",
    "    if skol_read[\"Verifica\"][i] == True:\n",
    "        if skol_read[\"relevante\"][i] == 1:\n",
    "            contagem_verdadeiro_positivo+=1\n",
    "        else:\n",
    "            contagem_verdadeiro_negativo+=1\n",
    "    else:\n",
    "        if skol_read[\"relevante\"][i] == 1:\n",
    "            contagem_falso_positivo+=1\n",
    "        else:\n",
    "            contagem_falso_negativo+=1\n",
    "    i+=1\n",
    "            "
   ]
  },
  {
   "cell_type": "code",
   "execution_count": 111,
   "metadata": {},
   "outputs": [],
   "source": [
    "porc_v_n = contagem_verdadeiro_negativo/300\n",
    "porc_v_p = contagem_verdadeiro_positivo/300\n",
    "porc_f_n = contagem_falso_negativo/300\n",
    "porc_f_p = contagem_falso_positivo/300"
   ]
  },
  {
   "cell_type": "code",
   "execution_count": 132,
   "metadata": {},
   "outputs": [
    {
     "name": "stdout",
     "output_type": "stream",
     "text": [
      "0.38333333333333336 0.01 0.23333333333333334 0.37333333333333335\n"
     ]
    }
   ],
   "source": [
    "print(porc_f_n, porc_f_p, porc_v_n, porc_v_p)\n",
    "lispie = [porc_f_n, porc_f_p, porc_v_n, porc_v_p]\n",
    "dic = {\"V_N\":porc_v_n,\n",
    "\"V_P\":porc_v_p,\n",
    "\"F_P\":porc_f_p,\n",
    "\"F_N\":porc_f_n}\n"
   ]
  },
  {
   "cell_type": "code",
   "execution_count": 163,
   "metadata": {},
   "outputs": [
    {
     "data": {
      "image/png": "[encoded data removed]",
      "text/plain": [
       "<Figure size 720x720 with 1 Axes>"
      ]
     },
     "metadata": {},
     "output_type": "display_data"
    }
   ],
   "source": [
    "# Data to plot\n",
    "labels = 'Falso Negativo', \"Falso Positivo\", \"Verdadeiro Negativo\", 'Verdadeiro Positivo'\n",
    "sizes = [porc_f_n, porc_f_p, porc_v_n, porc_v_p]\n",
    "colors = ['gold', 'yellowgreen', 'lightcoral', 'lightskyblue']\n",
    "explode = (0.1, 0.1, 0.1, 0.1)  # explode 1st slice\n",
    "\n",
    "# Plot\n",
    "plt.figure(figsize=[10,10])\n",
    "plt.pie(sizes, explode=explode, labels=labels, colors=colors,\n",
    "autopct='%1.1f%%', shadow=True, startangle=140)\n",
    "\n",
    "plt.axis('equal')\n",
    "plt.show()"
   ]
  },
  {
   "cell_type": "code",
   "execution_count": null,
   "metadata": {},
   "outputs": [],
   "source": [
    "# Data to plot\n",
    "labels = 'Falso Negativo', \"Falso Positivo\", \"Verdadeiro Negativo\", 'Verdadeiro Positivo'\n",
    "sizes = [porc_f_n, porc_f_p, porc_v_n, porc_v_p]\n",
    "colors = ['gold', 'yellowgreen', 'lightcoral', 'lightskyblue']\n",
    "#explode = (0, 0, 0, 0)\n",
    "\n",
    "# Plot\n",
    "#plt.pie(sizes, explode=explode, labels=labels, colors=colors,\n",
    "#autopct='%1.1f%%', shadow=True, startangle=140\n",
    "patches, texts = plt.pie(sizes, colors=colors, shadow=True, startangle=90)\n",
    "plt.legend(patches, labels, loc=\"best\")\n",
    "plt.axis('equal')\n",
    "plt.tight_layout()\n",
    "plt.show()\n",
    "\n",
    "\n",
    "\n"
   ]
  },
  {
   "cell_type": "markdown",
   "metadata": {},
   "source": [
    "___\n",
    "### Concluindo"
   ]
  },
  {
   "cell_type": "code",
   "execution_count": null,
   "metadata": {},
   "outputs": [],
   "source": []
  },
  {
   "cell_type": "code",
   "execution_count": null,
   "metadata": {},
   "outputs": [],
   "source": []
  },
  {
   "cell_type": "markdown",
   "metadata": {},
   "source": [
    "## Aperfeiçoamento:\n",
    "\n",
    "Os trabalhos vão evoluir em conceito dependendo da quantidade de itens avançados:\n",
    "\n",
    "* Limpar: \\n, :, \", ', (, ), etc SEM remover emojis\n",
    "* Corrigir separação de espaços entre palavras e emojis ou emojis e emojis\n",
    "* Propor outras limpezas e transformações que não afetem a qualidade da informação ou classificação\n",
    "* Criar categorias intermediárias de relevância baseadas na probabilidade: ex.: muito relevante, relevante, neutro, irrelevante, muito irrelevante (3 categorias: C, mais categorias conta para B)\n",
    "* Explicar por que não posso usar o próprio classificador para gerar mais amostras de treinamento\n",
    "* Propor diferentes cenários para Naïve Bayes fora do contexto do projeto\n",
    "* Sugerir e explicar melhorias reais com indicações concretas de como implementar (indicar como fazer e indicar material de pesquisa)\n",
    "* Montar um dashboard que periodicamente realiza análise de sentimento e visualiza estes dados"
   ]
  },
  {
   "cell_type": "markdown",
   "metadata": {},
   "source": [
    "# Referências"
   ]
  },
  {
   "cell_type": "markdown",
   "metadata": {},
   "source": [
    "[Naive Bayes and Text Classification](https://arxiv.org/pdf/1410.5329.pdf)  **Mais completo**\n",
    "\n",
    "[A practical explanation of a Naive Bayes Classifier](https://monkeylearn.com/blog/practical-explanation-naive-bayes-classifier/) **Mais simples**"
   ]
  },
  {
   "cell_type": "code",
   "execution_count": null,
   "metadata": {},
   "outputs": [],
   "source": []
  }
 ],
 "metadata": {
  "kernelspec": {
   "display_name": "Python 3",
   "language": "python",
   "name": "python3"
  },
  "language_info": {
   "codemirror_mode": {
    "name": "ipython",
    "version": 3
   },
   "file_extension": ".py",
   "mimetype": "text/x-python",
   "name": "python",
   "nbconvert_exporter": "python",
   "pygments_lexer": "ipython3",
   "version": "3.7.1"
  }
 },
 "nbformat": 4,
 "nbformat_minor": 4
}
