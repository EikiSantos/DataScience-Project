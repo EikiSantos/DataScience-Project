{
 "cells": [
  {
   "cell_type": "markdown",
   "metadata": {},
   "source": [
    "# Projeto 2 - Ciência dos Dados"
   ]
  },
  {
   "cell_type": "markdown",
   "metadata": {},
   "source": [
    "Nome: _____\n",
    "\n",
    "Nome: _____"
   ]
  },
  {
   "cell_type": "markdown",
   "metadata": {},
   "source": [
    "Serão permitidos grupos de três pessoas, mas com uma rubrica mais exigente. Grupos deste tamanho precisarão fazer um questionário de avaliação de trabalho em equipe"
   ]
  },
  {
   "cell_type": "markdown",
   "metadata": {},
   "source": [
    "___\n",
    "# Classificador automático de sentimento\n"
   ]
  },
  {
   "cell_type": "markdown",
   "metadata": {},
   "source": [
    "## Preparando o ambiente no jupyter:"
   ]
  },
  {
   "cell_type": "code",
   "execution_count": 1,
   "metadata": {},
   "outputs": [],
   "source": [
    "%%capture\n",
    "\n",
    "#Instalando o tweepy\n",
    "!pip install tweepy"
   ]
  },
  {
   "cell_type": "code",
   "execution_count": 2,
   "metadata": {},
   "outputs": [],
   "source": [
    "%matplotlib inline\n",
    "import tweepy\n",
    "import math\n",
    "import os.path\n",
    "import json\n",
    "from random import shuffle\n",
    "import matplotlib.pyplot as plt\n",
    "import pandas as pd"
   ]
  },
  {
   "cell_type": "markdown",
   "metadata": {},
   "source": [
    "___\n",
    "## Autenticando no  Twitter\n",
    "\n",
    "* Conta: @EikiMarcelo"
   ]
  },
  {
   "cell_type": "raw",
   "metadata": {},
   "source": [
    "#Dados de autenticação do twitter:\n",
    "\n",
    "#Coloque aqui o identificador da conta no twitter: @EikiMarcelo\n",
    "\n",
    "#leitura do arquivo no formato JSON\n",
    "with open('auth.pass') as fp:    \n",
    "    data = json.load(fp)\n",
    "\n",
    "#Configurando a biblioteca. Não modificar\n",
    "auth = tweepy.OAuthHandler(data['consumer_key'], data['consumer_secret'])\n",
    "auth.set_access_token(data['access_token'], data['access_token_secret'])"
   ]
  },
  {
   "cell_type": "markdown",
   "metadata": {},
   "source": [
    "___\n",
    "## Etapas do projeto:"
   ]
  },
  {
   "cell_type": "markdown",
   "metadata": {},
   "source": [
    "### Escolha de um produto e coleta das mensagens\n"
   ]
  },
  {
   "cell_type": "raw",
   "metadata": {},
   "source": [
    "#Produto escolhido:\n",
    "produto = 'Skol'\n",
    "\n",
    "#Quantidade mínima de mensagens capturadas:\n",
    "n = 500\n",
    "#Quantidade mínima de mensagens para a base de treinamento:\n",
    "t = 300\n",
    "\n",
    "#Filtro de língua, escolha uma na tabela ISO 639-1.\n",
    "lang = 'pt'"
   ]
  },
  {
   "cell_type": "markdown",
   "metadata": {},
   "source": [
    "Capturando os dados do twitter:"
   ]
  },
  {
   "cell_type": "raw",
   "metadata": {},
   "source": [
    "#Cria um objeto para a captura\n",
    "api = tweepy.API(auth)\n",
    "\n",
    "#Inicia a captura, para mais detalhes: ver a documentação do tweepy\n",
    "i = 1\n",
    "msgs = []\n",
    "for msg in tweepy.Cursor(api.search, q=produto, lang=lang, tweet_mode=\"extended\").items():    \n",
    "    msgs.append(msg.full_text.lower())\n",
    "    i += 1\n",
    "    if i > n:\n",
    "        break\n",
    "\n",
    "#Embaralhando as mensagens para reduzir um possível viés\n",
    "shuffle(msgs)"
   ]
  },
  {
   "cell_type": "code",
   "execution_count": null,
   "metadata": {},
   "outputs": [],
   "source": []
  },
  {
   "cell_type": "markdown",
   "metadata": {},
   "source": [
    "Salvando os dados em uma planilha Excel:"
   ]
  },
  {
   "cell_type": "raw",
   "metadata": {},
   "source": [
    "len (msgs)"
   ]
  },
  {
   "cell_type": "raw",
   "metadata": {},
   "source": [
    "#Verifica se o arquivo não existe para não substituir um conjunto pronto\n",
    "if not os.path.isfile('./{0}.xlsx'.format(produto)):\n",
    "    \n",
    "    #Abre o arquivo para escrita\n",
    "    writer = pd.ExcelWriter('{0}.xlsx'.format(produto), engine = 'openpyxl')\n",
    "\n",
    "    #divide o conjunto de mensagens em duas planilhas\n",
    "    dft = pd.DataFrame({'Treinamento' : pd.Series(msgs[:t])})\n",
    "    dft.to_excel(excel_writer = writer, sheet_name = 'Treinamento', index = False)\n",
    "\n",
    "    dfc = pd.DataFrame({'Teste' : pd.Series(msgs[t:])})\n",
    "    dfc.to_excel(excel_writer = writer, sheet_name = 'Teste', index = False)\n",
    "\n",
    "    #fecha o arquivo\n",
    "    writer.save()"
   ]
  },
  {
   "cell_type": "markdown",
   "metadata": {},
   "source": [
    "___\n",
    "### Classificando as mensagens na coragem\n",
    "\n",
    "Esta etapa é manual. Faça a mesma pelo Excel."
   ]
  },
  {
   "cell_type": "code",
   "execution_count": 3,
   "metadata": {},
   "outputs": [],
   "source": [
    "#def de limpar palavras\n",
    "import re \n",
    "\n",
    "def cleanup(text):\n",
    "    \"\"\"\n",
    "        Função de limpeza muito simples que troca alguns sinais básicos por espaços\n",
    "    \"\"\"\n",
    "    punctuation = '[!\\-.:?;]' # Note que os sinais [] são delimitadores de um conjunto.\n",
    "    pattern = re.compile(punctuation)\n",
    "    text_subbed = re.sub(pattern, ' ', text)\n",
    "    return text_subbed\n",
    "#Excel\n",
    "skol_read=pd.read_excel(\"skol.xlsx\")"
   ]
  },
  {
   "cell_type": "code",
   "execution_count": 4,
   "metadata": {},
   "outputs": [
    {
     "name": "stdout",
     "output_type": "stream",
     "text": [
      "Len relevante 0: 185  Len relevante 1: 115\n"
     ]
    }
   ],
   "source": [
    "#Limpeza e separação por relevancia\n",
    "skol_read.Treinamento.apply(cleanup)\n",
    "skol_read.rename(columns={'Unnamed: 1':'relevante'},inplace=True)\n",
    "#Relevante 0\n",
    "skol_relevante_0=skol_read[skol_read.relevante==0]\n",
    "\n",
    "#Relevante 1\n",
    "skol_relevante_1=skol_read[skol_read.relevante==1]\n",
    "print (\"Len relevante 0:\",len(skol_relevante_0),\"\",\n",
    "       \"Len relevante 1:\",len(skol_relevante_1))"
   ]
  },
  {
   "cell_type": "code",
   "execution_count": 5,
   "metadata": {},
   "outputs": [],
   "source": [
    "# Separando as palavras Relevancia 1\n",
    "\" \".join(skol_relevante_1[\"Treinamento\"]).split()\n",
    "palavras=pd.DataFrame(\"\".join(skol_relevante_1[\"Treinamento\"]).split())\n",
    "palavras_relevancia_1=palavras[0].value_counts()\n",
    "#Tabela Relativa \n",
    "palavras_relevancia_1_relativa=palavras[0].value_counts(True)"
   ]
  },
  {
   "cell_type": "code",
   "execution_count": 6,
   "metadata": {},
   "outputs": [],
   "source": [
    "# Separando as palavras Relevancia 0\n",
    "\" \".join(skol_relevante_0[\"Treinamento\"]).split()\n",
    "palavras=pd.DataFrame(\"\".join(skol_relevante_0[\"Treinamento\"]).split())\n",
    "palavras[0].value_counts()\n",
    "palavras_relevancia_0=palavras[0].value_counts()\n",
    "palavras_relevancia_0\n",
    "\n",
    "#Tabela Relativa \n",
    "palavras_relevancia_0_relativa=palavras[0].value_counts(True)"
   ]
  },
  {
   "cell_type": "code",
   "execution_count": 7,
   "metadata": {},
   "outputs": [
    {
     "name": "stdout",
     "output_type": "stream",
     "text": [
      "skol                 0.040550\n",
      "de                   0.034556\n",
      "e                    0.023625\n",
      "a                    0.022214\n",
      "beats                0.014457\n",
      "o                    0.013399\n",
      "eu                   0.013047\n",
      "da                   0.012341\n",
      "que                  0.011636\n",
      "pra                  0.010578\n",
      "uma                  0.010226\n",
      "é                    0.009520\n",
      "do                   0.009520\n",
      "me                   0.008110\n",
      "com                  0.007757\n",
      "no                   0.007052\n",
      "q                    0.006347\n",
      "não                  0.006347\n",
      "em                   0.005994\n",
      "na                   0.005642\n",
      "um                   0.005642\n",
      "se                   0.005642\n",
      "tu                   0.005289\n",
      "bebendo              0.004937\n",
      "mano                 0.004584\n",
      "vai                  0.004584\n",
      "mas                  0.004231\n",
      "toma                 0.004231\n",
      "só                   0.004231\n",
      "para                 0.004231\n",
      "                       ...   \n",
      "anúncios             0.000353\n",
      "bitche               0.000353\n",
      "amante               0.000353\n",
      "casa*                0.000353\n",
      "sarrandort           0.000353\n",
      "mês!rt               0.000353\n",
      "tematicas            0.000353\n",
      "beats…[05/09/2019    0.000353\n",
      "contato              0.000353\n",
      "sp                   0.000353\n",
      "menor                0.000353\n",
      "futuro               0.000353\n",
      "hj                   0.000353\n",
      "fardo                0.000353\n",
      "inteiroporra         0.000353\n",
      "está                 0.000353\n",
      "chamar               0.000353\n",
      "burguesa             0.000353\n",
      "cultura              0.000353\n",
      "volta                0.000353\n",
      "campo                0.000353\n",
      "fraquejar...\"o       0.000353\n",
      "abriu                0.000353\n",
      "levaram              0.000353\n",
      "perturbando          0.000353\n",
      "motel,               0.000353\n",
      "vontade              0.000353\n",
      "todos                0.000353\n",
      "moro                 0.000353\n",
      "flores               0.000353\n",
      "Name: 0, Length: 1219, dtype: float64\n"
     ]
    }
   ],
   "source": [
    "print (palavras_relevancia_0_relativa)"
   ]
  },
  {
   "cell_type": "code",
   "execution_count": null,
   "metadata": {},
   "outputs": [],
   "source": []
  },
  {
   "cell_type": "markdown",
   "metadata": {},
   "source": [
    "___\n",
    "### Montando o Classificador Naive-Bayes\n",
    "\n",
    "Considerando apenas as mensagens da planilha Treinamento, ensine  seu classificador."
   ]
  },
  {
   "cell_type": "markdown",
   "metadata": {},
   "source": [
    "### <font color = \"red\"> Lista Prob Relevância 0 (Lista_prob_0):"
   ]
  },
  {
   "cell_type": "code",
   "execution_count": 8,
   "metadata": {},
   "outputs": [],
   "source": [
    "i=0\n",
    "lista_frase=[]\n",
    "lista_palavra = []\n",
    "while i <=299:\n",
    "    a=skol_read.iloc[i,0]\n",
    "    lista_frase.append(a)\n",
    "    x = lista_frase[i].split(\" \")\n",
    "    lista_palavra.append(x)\n",
    "    i+=1\n",
    "lista_palavra\n",
    "\n",
    "\n",
    "\n",
    "t = 1/(len(palavras_relevancia_0_relativa)+len(palavras_relevancia_0_relativa))\n",
    "\n",
    "i = 0\n",
    "produto_prob = []\n",
    "while i <= 299:\n",
    "    k = 0\n",
    "    mult_prob = []\n",
    "    while k < len(lista_palavra[i]):\n",
    "        palavra = lista_palavra[i][k]\n",
    "        if palavra not in palavras_relevancia_0_relativa:\n",
    "            prob = t\n",
    "        else:\n",
    "            prob = palavras_relevancia_0_relativa[palavra] + t\n",
    "        mult_prob.append(prob)\n",
    "        k+=1\n",
    "    #Aqui ja tem lista da probabilidade das palavras\n",
    "    #print(mult_prob)\n",
    "    p = 0\n",
    "    for e in mult_prob:\n",
    "        if p == 0:\n",
    "            p = e\n",
    "        else:\n",
    "            p = p*e\n",
    "    produto = p\n",
    "    produto_prob.append(produto)\n",
    "    i+=1\n",
    "Lista_prob_0 = produto_prob"
   ]
  },
  {
   "cell_type": "markdown",
   "metadata": {},
   "source": [
    "### <font color = \"red\" > Lista Prob Relevância 1 (Lista_prob_1):"
   ]
  },
  {
   "cell_type": "code",
   "execution_count": 9,
   "metadata": {},
   "outputs": [],
   "source": [
    "i=0\n",
    "lista_frase=[]\n",
    "lista_palavra = []\n",
    "while i <=299:\n",
    "    a=skol_read.iloc[i,0]\n",
    "    lista_frase.append(a)\n",
    "    x = lista_frase[i].split(\" \")\n",
    "    lista_palavra.append(x)\n",
    "    i+=1\n",
    "lista_palavra\n",
    "\n",
    "\n",
    "\n",
    "t = 1/(len(palavras_relevancia_1_relativa)+len(palavras_relevancia_1_relativa))\n",
    "\n",
    "i = 0\n",
    "produto_prob = []\n",
    "while i <= 299:\n",
    "    k = 0\n",
    "    mult_prob = []\n",
    "    while k < len(lista_palavra[i]):\n",
    "        palavra = lista_palavra[i][k]\n",
    "        if palavra not in palavras_relevancia_1_relativa:\n",
    "            prob = t\n",
    "        else:\n",
    "            prob = palavras_relevancia_1_relativa[palavra] + t\n",
    "        mult_prob.append(prob)\n",
    "        k+=1\n",
    "    #Aqui ja tem lista da probabilidade das palavras\n",
    "    #print(mult_prob)\n",
    "    p = 0\n",
    "    for e in mult_prob:\n",
    "        if p == 0:\n",
    "            p = e\n",
    "        else:\n",
    "            p = p*e\n",
    "    produto = p\n",
    "    produto_prob.append(produto)\n",
    "    i+=1\n",
    "Lista_prob_1 = produto_prob"
   ]
  },
  {
   "cell_type": "markdown",
   "metadata": {},
   "source": [
    "### <font color = \"red\"> Criando a lista analisadora:"
   ]
  },
  {
   "cell_type": "code",
   "execution_count": 10,
   "metadata": {},
   "outputs": [
    {
     "name": "stdout",
     "output_type": "stream",
     "text": [
      "[1, 1, 1, 1, 1, 1, 1, 1, 1, 0, 0, 0, 1, 1, 1, 1, 1, 1, 1, 1, 0, 1, 0, 1, 0, 0, 1, 1, 1, 1, 1, 1, 1, 1, 0, 1, 0, 1, 1, 1, 1, 1, 0, 1, 1, 1, 0, 1, 1, 1, 1, 1, 1, 1, 1, 1, 1, 1, 1, 0, 1, 1, 1, 1, 1, 1, 1, 1, 1, 1, 0, 1, 1, 1, 1, 1, 1, 0, 1, 1, 1, 1, 1, 1, 1, 0, 0, 0, 0, 1, 1, 0, 1, 1, 1, 0, 1, 1, 1, 1, 0, 1, 1, 1, 1, 1, 1, 1, 1, 0, 1, 1, 1, 1, 1, 0, 0, 1, 1, 1, 1, 1, 1, 1, 0, 0, 1, 1, 1, 1, 1, 0, 1, 1, 1, 1, 1, 1, 1, 1, 1, 1, 0, 0, 1, 1, 1, 1, 1, 1, 1, 1, 1, 1, 0, 1, 1, 1, 1, 0, 1, 0, 1, 1, 0, 1, 1, 1, 1, 1, 1, 1, 1, 1, 0, 0, 0, 1, 1, 1, 1, 0, 1, 0, 0, 0, 1, 0, 1, 1, 1, 1, 1, 1, 1, 0, 0, 1, 1, 1, 1, 1, 0, 1, 0, 1, 1, 1, 0, 1, 0, 1, 1, 1, 0, 0, 0, 1, 0, 0, 0, 1, 1, 1, 0, 1, 0, 1, 1, 1, 1, 1, 1, 1, 1, 1, 1, 0, 1, 1, 0, 0, 1, 1, 0, 0, 1, 1, 1, 0, 0, 0, 1, 1, 1, 1, 1, 1, 0, 0, 1, 1, 1, 1, 1, 1, 1, 1, 1, 1, 1, 1, 1, 1, 1, 1, 1, 1, 0, 0, 1, 1, 0, 0, 1, 1, 1, 0, 1, 1, 1, 1, 1, 0, 1, 1, 0, 0, 1, 1]\n"
     ]
    }
   ],
   "source": [
    "lista_analise = []\n",
    "\n",
    "i=0\n",
    "analise = 0\n",
    "while i< len(Lista_prob_1):\n",
    "    if Lista_prob_1[i] > Lista_prob_0[i]:\n",
    "        analise = 1\n",
    "    else:\n",
    "        analise = 0\n",
    "    lista_analise.append(analise)\n",
    "    i+=1\n",
    "print(lista_analise)"
   ]
  },
  {
   "cell_type": "markdown",
   "metadata": {},
   "source": [
    "### <font color = \"red\"> Validando as analises:"
   ]
  },
  {
   "cell_type": "markdown",
   "metadata": {},
   "source": [
    "#### Adicionando a coluna do resultado:"
   ]
  },
  {
   "cell_type": "code",
   "execution_count": 11,
   "metadata": {},
   "outputs": [
    {
     "data": {
      "text/html": [
       "<div>\n",
       "<style scoped>\n",
       "    .dataframe tbody tr th:only-of-type {\n",
       "        vertical-align: middle;\n",
       "    }\n",
       "\n",
       "    .dataframe tbody tr th {\n",
       "        vertical-align: top;\n",
       "    }\n",
       "\n",
       "    .dataframe thead th {\n",
       "        text-align: right;\n",
       "    }\n",
       "</style>\n",
       "<table border=\"1\" class=\"dataframe\">\n",
       "  <thead>\n",
       "    <tr style=\"text-align: right;\">\n",
       "      <th></th>\n",
       "      <th>Treinamento</th>\n",
       "      <th>relevante</th>\n",
       "      <th>Analises</th>\n",
       "    </tr>\n",
       "  </thead>\n",
       "  <tbody>\n",
       "    <tr>\n",
       "      <th>0</th>\n",
       "      <td>rt @2kdaladeira: @whsallas @silva22anny tbm ma...</td>\n",
       "      <td>0</td>\n",
       "      <td>1</td>\n",
       "    </tr>\n",
       "    <tr>\n",
       "      <th>1</th>\n",
       "      <td>olha gente elas bebendo suco😍😍 com essas caras...</td>\n",
       "      <td>0</td>\n",
       "      <td>1</td>\n",
       "    </tr>\n",
       "    <tr>\n",
       "      <th>2</th>\n",
       "      <td>um open de skol beats em limeira seria uma boa...</td>\n",
       "      <td>1</td>\n",
       "      <td>1</td>\n",
       "    </tr>\n",
       "    <tr>\n",
       "      <th>3</th>\n",
       "      <td>@bonagabriella kkkkk tem coisas q merecem um r...</td>\n",
       "      <td>0</td>\n",
       "      <td>1</td>\n",
       "    </tr>\n",
       "    <tr>\n",
       "      <th>4</th>\n",
       "      <td>@cecitoptop aiai tá louca \\nnem skol beats na ...</td>\n",
       "      <td>0</td>\n",
       "      <td>1</td>\n",
       "    </tr>\n",
       "    <tr>\n",
       "      <th>5</th>\n",
       "      <td>@qgdaanitta representa a skol como ninguém \\nr...</td>\n",
       "      <td>0</td>\n",
       "      <td>1</td>\n",
       "    </tr>\n",
       "    <tr>\n",
       "      <th>6</th>\n",
       "      <td>rt @sggrazii: skol beats e ice é exceção https...</td>\n",
       "      <td>0</td>\n",
       "      <td>1</td>\n",
       "    </tr>\n",
       "    <tr>\n",
       "      <th>7</th>\n",
       "      <td>@skolvikings_br @billsbrazil @enefeudazueira c...</td>\n",
       "      <td>0</td>\n",
       "      <td>1</td>\n",
       "    </tr>\n",
       "    <tr>\n",
       "      <th>8</th>\n",
       "      <td>rt @daumasgeo: óbvio que ela foi embora tava d...</td>\n",
       "      <td>1</td>\n",
       "      <td>1</td>\n",
       "    </tr>\n",
       "    <tr>\n",
       "      <th>9</th>\n",
       "      <td>rt @netoverissimom: dia de skol😂🍺☀️ https://t....</td>\n",
       "      <td>0</td>\n",
       "      <td>0</td>\n",
       "    </tr>\n",
       "    <tr>\n",
       "      <th>10</th>\n",
       "      <td>rt @claraisa_: claro mano tu coloca a menina p...</td>\n",
       "      <td>0</td>\n",
       "      <td>0</td>\n",
       "    </tr>\n",
       "    <tr>\n",
       "      <th>11</th>\n",
       "      <td>rt @danilowalker15: e ai gata, bora fazer uma ...</td>\n",
       "      <td>0</td>\n",
       "      <td>0</td>\n",
       "    </tr>\n",
       "    <tr>\n",
       "      <th>12</th>\n",
       "      <td>to procrastinando, vou ensinar a reaproveitar ...</td>\n",
       "      <td>1</td>\n",
       "      <td>1</td>\n",
       "    </tr>\n",
       "    <tr>\n",
       "      <th>13</th>\n",
       "      <td>@carnatal 1. com toda certeza!\\n2. faz parte.\\...</td>\n",
       "      <td>0</td>\n",
       "      <td>1</td>\n",
       "    </tr>\n",
       "    <tr>\n",
       "      <th>14</th>\n",
       "      <td>eu bebendo skol e brahma https://t.co/qecv0vtoeh</td>\n",
       "      <td>0</td>\n",
       "      <td>1</td>\n",
       "    </tr>\n",
       "    <tr>\n",
       "      <th>15</th>\n",
       "      <td>rt @gabrielt_rock: porra skol é foda\\nse fosse...</td>\n",
       "      <td>0</td>\n",
       "      <td>1</td>\n",
       "    </tr>\n",
       "    <tr>\n",
       "      <th>16</th>\n",
       "      <td>corona com eliminação igual a ressaca de skol\\...</td>\n",
       "      <td>1</td>\n",
       "      <td>1</td>\n",
       "    </tr>\n",
       "    <tr>\n",
       "      <th>17</th>\n",
       "      <td>to tomando capuccino skol e água, hidratadissi...</td>\n",
       "      <td>0</td>\n",
       "      <td>1</td>\n",
       "    </tr>\n",
       "    <tr>\n",
       "      <th>18</th>\n",
       "      <td>35,00 dá de comprar 7 skol beats e eu passar m...</td>\n",
       "      <td>0</td>\n",
       "      <td>1</td>\n",
       "    </tr>\n",
       "    <tr>\n",
       "      <th>19</th>\n",
       "      <td>porra skol é foda\\nse fosse glacial duvido q t...</td>\n",
       "      <td>0</td>\n",
       "      <td>1</td>\n",
       "    </tr>\n",
       "    <tr>\n",
       "      <th>20</th>\n",
       "      <td>eu no rolê depois de 2 skol beats https://t.co...</td>\n",
       "      <td>0</td>\n",
       "      <td>0</td>\n",
       "    </tr>\n",
       "    <tr>\n",
       "      <th>21</th>\n",
       "      <td>mas tambem skol eh foda https://t.co/pft6bh9zrx</td>\n",
       "      <td>1</td>\n",
       "      <td>1</td>\n",
       "    </tr>\n",
       "    <tr>\n",
       "      <th>22</th>\n",
       "      <td>eu consigo ver ele rindo sentado nessas mezinh...</td>\n",
       "      <td>0</td>\n",
       "      <td>0</td>\n",
       "    </tr>\n",
       "    <tr>\n",
       "      <th>23</th>\n",
       "      <td>eu tossindo feito louco mas não largo a garraf...</td>\n",
       "      <td>1</td>\n",
       "      <td>1</td>\n",
       "    </tr>\n",
       "    <tr>\n",
       "      <th>24</th>\n",
       "      <td>tô me achando o bem 10 slc, cada monstro me ma...</td>\n",
       "      <td>0</td>\n",
       "      <td>0</td>\n",
       "    </tr>\n",
       "    <tr>\n",
       "      <th>25</th>\n",
       "      <td>rt @humor_kard: amas antes de voltar pra corei...</td>\n",
       "      <td>0</td>\n",
       "      <td>0</td>\n",
       "    </tr>\n",
       "    <tr>\n",
       "      <th>26</th>\n",
       "      <td>rt @whiteiskool: quero uma skol beats porra</td>\n",
       "      <td>1</td>\n",
       "      <td>1</td>\n",
       "    </tr>\n",
       "    <tr>\n",
       "      <th>27</th>\n",
       "      <td>alivio de não precisar pagar um fardo  de skol...</td>\n",
       "      <td>0</td>\n",
       "      <td>1</td>\n",
       "    </tr>\n",
       "    <tr>\n",
       "      <th>28</th>\n",
       "      <td>@bts_twt esperando a ptóxima dele em copacaban...</td>\n",
       "      <td>1</td>\n",
       "      <td>1</td>\n",
       "    </tr>\n",
       "    <tr>\n",
       "      <th>29</th>\n",
       "      <td>falta decidir se bebo corona ou skol a</td>\n",
       "      <td>0</td>\n",
       "      <td>1</td>\n",
       "    </tr>\n",
       "    <tr>\n",
       "      <th>...</th>\n",
       "      <td>...</td>\n",
       "      <td>...</td>\n",
       "      <td>...</td>\n",
       "    </tr>\n",
       "    <tr>\n",
       "      <th>270</th>\n",
       "      <td>galera lembrando que hoje começa a nova tempor...</td>\n",
       "      <td>0</td>\n",
       "      <td>1</td>\n",
       "    </tr>\n",
       "    <tr>\n",
       "      <th>271</th>\n",
       "      <td>a pedido do skol, prr tive q lança 🎤🔐</td>\n",
       "      <td>0</td>\n",
       "      <td>1</td>\n",
       "    </tr>\n",
       "    <tr>\n",
       "      <th>272</th>\n",
       "      <td>tu dando skol pra mina tbm não tem deus que aj...</td>\n",
       "      <td>0</td>\n",
       "      <td>1</td>\n",
       "    </tr>\n",
       "    <tr>\n",
       "      <th>273</th>\n",
       "      <td>e esse é o melhor gif do #skol https://t.co/ai...</td>\n",
       "      <td>0</td>\n",
       "      <td>1</td>\n",
       "    </tr>\n",
       "    <tr>\n",
       "      <th>274</th>\n",
       "      <td>rt @manel_l2: não é pq eu fumo com quem anda q...</td>\n",
       "      <td>0</td>\n",
       "      <td>1</td>\n",
       "    </tr>\n",
       "    <tr>\n",
       "      <th>275</th>\n",
       "      <td>qnt tempo não bebo uma skol beats jamais será ...</td>\n",
       "      <td>1</td>\n",
       "      <td>1</td>\n",
       "    </tr>\n",
       "    <tr>\n",
       "      <th>276</th>\n",
       "      <td>@souza55549 aquelas duas escadinhas pra entrar...</td>\n",
       "      <td>0</td>\n",
       "      <td>1</td>\n",
       "    </tr>\n",
       "    <tr>\n",
       "      <th>277</th>\n",
       "      <td>\"...tem gente que me ama e eu não posso desand...</td>\n",
       "      <td>0</td>\n",
       "      <td>1</td>\n",
       "    </tr>\n",
       "    <tr>\n",
       "      <th>278</th>\n",
       "      <td>o time que perdeu hoje e me fez ganhar uma cai...</td>\n",
       "      <td>0</td>\n",
       "      <td>0</td>\n",
       "    </tr>\n",
       "    <tr>\n",
       "      <th>279</th>\n",
       "      <td>rt @elements_777: @deusbrees o triste é que te...</td>\n",
       "      <td>0</td>\n",
       "      <td>0</td>\n",
       "    </tr>\n",
       "    <tr>\n",
       "      <th>280</th>\n",
       "      <td>alguém me traz uma skol beats gelada agora duvido</td>\n",
       "      <td>1</td>\n",
       "      <td>1</td>\n",
       "    </tr>\n",
       "    <tr>\n",
       "      <th>281</th>\n",
       "      <td>skol hops e muito ruim</td>\n",
       "      <td>1</td>\n",
       "      <td>1</td>\n",
       "    </tr>\n",
       "    <tr>\n",
       "      <th>282</th>\n",
       "      <td>@juuhjames amg aquele dia eu vivi a maior ilus...</td>\n",
       "      <td>0</td>\n",
       "      <td>0</td>\n",
       "    </tr>\n",
       "    <tr>\n",
       "      <th>283</th>\n",
       "      <td>rt @thaissax1: eu no rolê depois de 2 skol bea...</td>\n",
       "      <td>0</td>\n",
       "      <td>0</td>\n",
       "    </tr>\n",
       "    <tr>\n",
       "      <th>284</th>\n",
       "      <td>rt @liima_nath: 2 festas surpresas \\nconheci r...</td>\n",
       "      <td>0</td>\n",
       "      <td>1</td>\n",
       "    </tr>\n",
       "    <tr>\n",
       "      <th>285</th>\n",
       "      <td>@sacidoblues @murilofsn ou a quarta opção toma...</td>\n",
       "      <td>1</td>\n",
       "      <td>1</td>\n",
       "    </tr>\n",
       "    <tr>\n",
       "      <th>286</th>\n",
       "      <td>seu perfil foi visto por 3 pessoas nas últimas...</td>\n",
       "      <td>0</td>\n",
       "      <td>1</td>\n",
       "    </tr>\n",
       "    <tr>\n",
       "      <th>287</th>\n",
       "      <td>rt @noite_poa: 🗓data: 27/09\\n📍local: soul spor...</td>\n",
       "      <td>0</td>\n",
       "      <td>0</td>\n",
       "    </tr>\n",
       "    <tr>\n",
       "      <th>288</th>\n",
       "      <td>ela era perfeita até dizer q brahma eh melhor ...</td>\n",
       "      <td>1</td>\n",
       "      <td>1</td>\n",
       "    </tr>\n",
       "    <tr>\n",
       "      <th>289</th>\n",
       "      <td>minha meta como ser humano é sentar numa mesa ...</td>\n",
       "      <td>1</td>\n",
       "      <td>1</td>\n",
       "    </tr>\n",
       "    <tr>\n",
       "      <th>290</th>\n",
       "      <td>guerreiro ele, fez a mina gostar de skol https...</td>\n",
       "      <td>0</td>\n",
       "      <td>1</td>\n",
       "    </tr>\n",
       "    <tr>\n",
       "      <th>291</th>\n",
       "      <td>skol me derruba de uma maneira. aiai</td>\n",
       "      <td>0</td>\n",
       "      <td>1</td>\n",
       "    </tr>\n",
       "    <tr>\n",
       "      <th>292</th>\n",
       "      <td>e eu q só fui saber agora o q significa \"sco p...</td>\n",
       "      <td>0</td>\n",
       "      <td>1</td>\n",
       "    </tr>\n",
       "    <tr>\n",
       "      <th>293</th>\n",
       "      <td>rt @btsceny: meudeus a jiwoo bebendo skol kkkk...</td>\n",
       "      <td>0</td>\n",
       "      <td>0</td>\n",
       "    </tr>\n",
       "    <tr>\n",
       "      <th>294</th>\n",
       "      <td>@realganjaman9 @2kdaladeira @umseraiqualquer @...</td>\n",
       "      <td>0</td>\n",
       "      <td>1</td>\n",
       "    </tr>\n",
       "    <tr>\n",
       "      <th>295</th>\n",
       "      <td>vc que acha que consegue me conquistar com beb...</td>\n",
       "      <td>1</td>\n",
       "      <td>1</td>\n",
       "    </tr>\n",
       "    <tr>\n",
       "      <th>296</th>\n",
       "      <td>rt @claraisa_: claro mano tu coloca a menina p...</td>\n",
       "      <td>0</td>\n",
       "      <td>0</td>\n",
       "    </tr>\n",
       "    <tr>\n",
       "      <th>297</th>\n",
       "      <td>rt @cec_mil_grau: escalação mil grau™️\\n1-gord...</td>\n",
       "      <td>0</td>\n",
       "      <td>0</td>\n",
       "    </tr>\n",
       "    <tr>\n",
       "      <th>298</th>\n",
       "      <td>coloquei ozzy logo cedo minha vó chegou na sal...</td>\n",
       "      <td>0</td>\n",
       "      <td>1</td>\n",
       "    </tr>\n",
       "    <tr>\n",
       "      <th>299</th>\n",
       "      <td>rt @sabrinas_silva: hoje só queria sentar em u...</td>\n",
       "      <td>1</td>\n",
       "      <td>1</td>\n",
       "    </tr>\n",
       "  </tbody>\n",
       "</table>\n",
       "<p>300 rows × 3 columns</p>\n",
       "</div>"
      ],
      "text/plain": [
       "                                           Treinamento  relevante  Analises\n",
       "0    rt @2kdaladeira: @whsallas @silva22anny tbm ma...          0         1\n",
       "1    olha gente elas bebendo suco😍😍 com essas caras...          0         1\n",
       "2    um open de skol beats em limeira seria uma boa...          1         1\n",
       "3    @bonagabriella kkkkk tem coisas q merecem um r...          0         1\n",
       "4    @cecitoptop aiai tá louca \\nnem skol beats na ...          0         1\n",
       "5    @qgdaanitta representa a skol como ninguém \\nr...          0         1\n",
       "6    rt @sggrazii: skol beats e ice é exceção https...          0         1\n",
       "7    @skolvikings_br @billsbrazil @enefeudazueira c...          0         1\n",
       "8    rt @daumasgeo: óbvio que ela foi embora tava d...          1         1\n",
       "9    rt @netoverissimom: dia de skol😂🍺☀️ https://t....          0         0\n",
       "10   rt @claraisa_: claro mano tu coloca a menina p...          0         0\n",
       "11   rt @danilowalker15: e ai gata, bora fazer uma ...          0         0\n",
       "12   to procrastinando, vou ensinar a reaproveitar ...          1         1\n",
       "13   @carnatal 1. com toda certeza!\\n2. faz parte.\\...          0         1\n",
       "14    eu bebendo skol e brahma https://t.co/qecv0vtoeh          0         1\n",
       "15   rt @gabrielt_rock: porra skol é foda\\nse fosse...          0         1\n",
       "16   corona com eliminação igual a ressaca de skol\\...          1         1\n",
       "17   to tomando capuccino skol e água, hidratadissi...          0         1\n",
       "18   35,00 dá de comprar 7 skol beats e eu passar m...          0         1\n",
       "19   porra skol é foda\\nse fosse glacial duvido q t...          0         1\n",
       "20   eu no rolê depois de 2 skol beats https://t.co...          0         0\n",
       "21     mas tambem skol eh foda https://t.co/pft6bh9zrx          1         1\n",
       "22   eu consigo ver ele rindo sentado nessas mezinh...          0         0\n",
       "23   eu tossindo feito louco mas não largo a garraf...          1         1\n",
       "24   tô me achando o bem 10 slc, cada monstro me ma...          0         0\n",
       "25   rt @humor_kard: amas antes de voltar pra corei...          0         0\n",
       "26         rt @whiteiskool: quero uma skol beats porra          1         1\n",
       "27   alivio de não precisar pagar um fardo  de skol...          0         1\n",
       "28   @bts_twt esperando a ptóxima dele em copacaban...          1         1\n",
       "29              falta decidir se bebo corona ou skol a          0         1\n",
       "..                                                 ...        ...       ...\n",
       "270  galera lembrando que hoje começa a nova tempor...          0         1\n",
       "271              a pedido do skol, prr tive q lança 🎤🔐          0         1\n",
       "272  tu dando skol pra mina tbm não tem deus que aj...          0         1\n",
       "273  e esse é o melhor gif do #skol https://t.co/ai...          0         1\n",
       "274  rt @manel_l2: não é pq eu fumo com quem anda q...          0         1\n",
       "275  qnt tempo não bebo uma skol beats jamais será ...          1         1\n",
       "276  @souza55549 aquelas duas escadinhas pra entrar...          0         1\n",
       "277  \"...tem gente que me ama e eu não posso desand...          0         1\n",
       "278  o time que perdeu hoje e me fez ganhar uma cai...          0         0\n",
       "279  rt @elements_777: @deusbrees o triste é que te...          0         0\n",
       "280  alguém me traz uma skol beats gelada agora duvido          1         1\n",
       "281                             skol hops e muito ruim          1         1\n",
       "282  @juuhjames amg aquele dia eu vivi a maior ilus...          0         0\n",
       "283  rt @thaissax1: eu no rolê depois de 2 skol bea...          0         0\n",
       "284  rt @liima_nath: 2 festas surpresas \\nconheci r...          0         1\n",
       "285  @sacidoblues @murilofsn ou a quarta opção toma...          1         1\n",
       "286  seu perfil foi visto por 3 pessoas nas últimas...          0         1\n",
       "287  rt @noite_poa: 🗓data: 27/09\\n📍local: soul spor...          0         0\n",
       "288  ela era perfeita até dizer q brahma eh melhor ...          1         1\n",
       "289  minha meta como ser humano é sentar numa mesa ...          1         1\n",
       "290  guerreiro ele, fez a mina gostar de skol https...          0         1\n",
       "291               skol me derruba de uma maneira. aiai          0         1\n",
       "292  e eu q só fui saber agora o q significa \"sco p...          0         1\n",
       "293  rt @btsceny: meudeus a jiwoo bebendo skol kkkk...          0         0\n",
       "294  @realganjaman9 @2kdaladeira @umseraiqualquer @...          0         1\n",
       "295  vc que acha que consegue me conquistar com beb...          1         1\n",
       "296  rt @claraisa_: claro mano tu coloca a menina p...          0         0\n",
       "297  rt @cec_mil_grau: escalação mil grau™️\\n1-gord...          0         0\n",
       "298  coloquei ozzy logo cedo minha vó chegou na sal...          0         1\n",
       "299  rt @sabrinas_silva: hoje só queria sentar em u...          1         1\n",
       "\n",
       "[300 rows x 3 columns]"
      ]
     },
     "execution_count": 11,
     "metadata": {},
     "output_type": "execute_result"
    }
   ],
   "source": [
    "skol_read[\"Analises\"] = lista_analise\n",
    "skol_read"
   ]
  },
  {
   "cell_type": "code",
   "execution_count": 12,
   "metadata": {},
   "outputs": [],
   "source": [
    "i = 0\n",
    "verifica = []\n",
    "while i < len(skol_read):\n",
    "    ver = False\n",
    "    if skol_read[\"relevante\"][i] == skol_read[\"Analises\"][i]:\n",
    "        ver = True\n",
    "    verifica.append(ver)\n",
    "    i+=1"
   ]
  },
  {
   "cell_type": "code",
   "execution_count": 13,
   "metadata": {},
   "outputs": [
    {
     "data": {
      "text/plain": [
       "True     0.606667\n",
       "False    0.393333\n",
       "Name: Verifica, dtype: float64"
      ]
     },
     "execution_count": 13,
     "metadata": {},
     "output_type": "execute_result"
    }
   ],
   "source": [
    "skol_read[\"Verifica\"] = verifica\n",
    "skol_read['Verifica'].value_counts(True)"
   ]
  },
  {
   "cell_type": "markdown",
   "metadata": {},
   "source": [
    "___\n",
    "### Verificando a performance\n",
    "\n",
    "Agora você deve testar o seu classificador com a base de Testes."
   ]
  },
  {
   "cell_type": "code",
   "execution_count": 14,
   "metadata": {},
   "outputs": [],
   "source": [
    "i = 0\n",
    "contagem_verdadeiro_positivo = 0\n",
    "contagem_verdadeiro_negativo = 0\n",
    "contagem_falso_positivo = 0\n",
    "contagem_falso_negativo = 0\n",
    "\n",
    "while i < len(skol_read):\n",
    "    if skol_read[\"Verifica\"][i] == True:\n",
    "        if skol_read[\"relevante\"][i] == 1:\n",
    "            contagem_verdadeiro_positivo+=1\n",
    "        else:\n",
    "            contagem_verdadeiro_negativo+=1\n",
    "    else:\n",
    "        if skol_read[\"relevante\"][i] == 1:\n",
    "            contagem_falso_positivo+=1\n",
    "        else:\n",
    "            contagem_falso_negativo+=1\n",
    "    i+=1\n",
    "            "
   ]
  },
  {
   "cell_type": "code",
   "execution_count": 15,
   "metadata": {},
   "outputs": [],
   "source": [
    "porc_v_n = contagem_verdadeiro_negativo/300\n",
    "porc_v_p = contagem_verdadeiro_positivo/300\n",
    "porc_f_n = contagem_falso_negativo/300\n",
    "porc_f_p = contagem_falso_positivo/300"
   ]
  },
  {
   "cell_type": "code",
   "execution_count": 16,
   "metadata": {},
   "outputs": [
    {
     "name": "stdout",
     "output_type": "stream",
     "text": [
      "0.38333333333333336 0.01 0.23333333333333334 0.37333333333333335\n"
     ]
    }
   ],
   "source": [
    "print(porc_f_n, porc_f_p, porc_v_n, porc_v_p)\n",
    "lispie = [porc_f_n, porc_f_p, porc_v_n, porc_v_p]\n",
    "dic = {\"V_N\":porc_v_n,\n",
    "\"V_P\":porc_v_p,\n",
    "\"F_P\":porc_f_p,\n",
    "\"F_N\":porc_f_n}\n"
   ]
  },
  {
   "cell_type": "code",
   "execution_count": 26,
   "metadata": {},
   "outputs": [
    {
     "data": {
      "image/png": "[encoded data removed]",
      "text/plain": [
       "<Figure size 576x576 with 1 Axes>"
      ]
     },
     "metadata": {},
     "output_type": "display_data"
    }
   ],
   "source": [
    "# Data to plot\n",
    "labels = 'Falso Negativo', \"Falso Positivo\", \"Verdadeiro Negativo\", 'Verdadeiro Positivo'\n",
    "sizes = [porc_f_n, porc_f_p, porc_v_n, porc_v_p]\n",
    "colors = ['gold', 'yellowgreen', 'lightcoral', 'lightskyblue']\n",
    "explode = (0.1, 0.1, 0.1, 0.1)  # explode 1st slice\n",
    "\n",
    "# Plot\n",
    "plt.figure(figsize=[8,8])\n",
    "plt.pie(sizes, explode=explode, labels=labels, colors=colors,\n",
    "autopct='%1.1f%%', shadow=True, startangle=140)\n",
    "\n",
    "plt.axis('equal')\n",
    "plt.show()"
   ]
  },
  {
   "cell_type": "code",
   "execution_count": 32,
   "metadata": {},
   "outputs": [
    {
     "data": {
      "image/png": "[encoded data removed]",
      "text/plain": [
       "<Figure size 576x576 with 1 Axes>"
      ]
     },
     "metadata": {},
     "output_type": "display_data"
    }
   ],
   "source": [
    "classi_true = porc_v_n + porc_v_p\n",
    "classi_false = porc_f_n + porc_f_p\n",
    "\n",
    "labels = \"Classificação Errada\", \"Classificação Certa\"\n",
    "sizes = [classi_false, classi_true]\n",
    "colors = ['gold', 'lightskyblue']\n",
    "explode = (0.05, 0.05)\n",
    "\n",
    "# Plot\n",
    "plt.figure(figsize=[8,8])\n",
    "plt.pie(sizes, explode=explode, labels=labels, colors=colors,\n",
    "autopct='%1.1f%%', shadow=True, startangle=140)\n",
    "plt.title(\"Comparação das Verdadeiras com as Falsas\")\n",
    "plt.axis('equal')\n",
    "plt.show()"
   ]
  },
  {
   "cell_type": "markdown",
   "metadata": {},
   "source": [
    "___\n",
    "### Concluindo"
   ]
  },
  {
   "cell_type": "code",
   "execution_count": null,
   "metadata": {},
   "outputs": [],
   "source": []
  },
  {
   "cell_type": "code",
   "execution_count": null,
   "metadata": {},
   "outputs": [],
   "source": []
  },
  {
   "cell_type": "markdown",
   "metadata": {},
   "source": [
    "## Aperfeiçoamento:\n",
    "\n",
    "Os trabalhos vão evoluir em conceito dependendo da quantidade de itens avançados:\n",
    "\n",
    "* Limpar: \\n, :, \", ', (, ), etc SEM remover emojis\n",
    "* Corrigir separação de espaços entre palavras e emojis ou emojis e emojis\n",
    "* Propor outras limpezas e transformações que não afetem a qualidade da informação ou classificação\n",
    "* Criar categorias intermediárias de relevância baseadas na probabilidade: ex.: muito relevante, relevante, neutro, irrelevante, muito irrelevante (3 categorias: C, mais categorias conta para B)\n",
    "* Explicar por que não posso usar o próprio classificador para gerar mais amostras de treinamento\n",
    "* Propor diferentes cenários para Naïve Bayes fora do contexto do projeto\n",
    "* Sugerir e explicar melhorias reais com indicações concretas de como implementar (indicar como fazer e indicar material de pesquisa)\n",
    "* Montar um dashboard que periodicamente realiza análise de sentimento e visualiza estes dados"
   ]
  },
  {
   "cell_type": "markdown",
   "metadata": {},
   "source": [
    "# Referências"
   ]
  },
  {
   "cell_type": "markdown",
   "metadata": {},
   "source": [
    "[Naive Bayes and Text Classification](https://arxiv.org/pdf/1410.5329.pdf)  **Mais completo**\n",
    "\n",
    "[A practical explanation of a Naive Bayes Classifier](https://monkeylearn.com/blog/practical-explanation-naive-bayes-classifier/) **Mais simples**"
   ]
  },
  {
   "cell_type": "code",
   "execution_count": null,
   "metadata": {},
   "outputs": [],
   "source": []
  }
 ],
 "metadata": {
  "kernelspec": {
   "display_name": "Python 3",
   "language": "python",
   "name": "python3"
  },
  "language_info": {
   "codemirror_mode": {
    "name": "ipython",
    "version": 3
   },
   "file_extension": ".py",
   "mimetype": "text/x-python",
   "name": "python",
   "nbconvert_exporter": "python",
   "pygments_lexer": "ipython3",
   "version": "3.7.1"
  }
 },
 "nbformat": 4,
 "nbformat_minor": 4
}
